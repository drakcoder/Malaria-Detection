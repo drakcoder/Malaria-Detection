{
 "cells": [
  {
   "cell_type": "code",
   "execution_count": 25,
   "metadata": {},
   "outputs": [],
   "source": [
    "from PIL import Image\n",
    "import numpy as np\n",
    "import os\n",
    "import cv2\n",
    "import keras\n",
    "from keras.utils import np_utils\n",
    "from keras.models import Sequential\n",
    "from keras.layers import Conv2D,MaxPooling2D,Dense,Flatten,Dropout"
   ]
  },
  {
   "cell_type": "code",
   "execution_count": 26,
   "metadata": {},
   "outputs": [
    {
     "name": "stdout",
     "output_type": "stream",
     "text": [
      "['cell_images']\n"
     ]
    }
   ],
   "source": [
    "print(os.listdir('C:\\\\Users\\\\Sairam Gundala\\\\Desktop\\\\class work\\\\kaggle\\\\malaria detection\\\\input'))"
   ]
  },
  {
   "cell_type": "code",
   "execution_count": 27,
   "metadata": {},
   "outputs": [
    {
     "name": "stderr",
     "output_type": "stream",
     "text": [
      "'ls' is not recognized as an internal or external command,\n",
      "operable program or batch file.\n"
     ]
    }
   ],
   "source": [
    "!ls"
   ]
  },
  {
   "cell_type": "code",
   "execution_count": 30,
   "metadata": {},
   "outputs": [
    {
     "name": "stdout",
     "output_type": "stream",
     "text": [
      " \n",
      " \n"
     ]
    }
   ],
   "source": [
    "data=[]\n",
    "labels=[]\n",
    "Parasitized=os.listdir(\"C:\\\\Users\\\\Sairam Gundala\\\\Desktop\\\\class work\\\\kaggle\\\\malaria detection\\\\input\\\\cell_images\\\\Parasitized\")\n",
    "for a in Parasitized:\n",
    "    try:\n",
    "        image=cv2.imread(\"C:\\\\Users\\\\Sairam Gundala\\\\Desktop\\\\class work\\\\kaggle\\\\malaria detection\\\\input\\\\cell_images\\\\Parasitized\\\\\" + a)\n",
    "        array=Image.fromarray(image, 'RGB')\n",
    "        size_image=array.resize((50,50))\n",
    "        data.append(np.array(size_image))\n",
    "        labels.append(0)\n",
    "    except AttributeError:\n",
    "        print(\" \")\n",
    "Uninfected= os.listdir(\"C:\\\\Users\\\\Sairam Gundala\\\\Desktop\\\\class work\\\\kaggle\\\\malaria detection\\\\input\\\\cell_images\\\\Uninfected\")\n",
    "for a in Uninfected:\n",
    "    try:\n",
    "        image=cv2.imread(\"C:\\\\Users\\\\Sairam Gundala\\\\Desktop\\\\class work\\\\kaggle\\\\malaria detection\\\\input\\\\cell_images\\\\Uninfected\\\\\" + a)\n",
    "        array=Image.fromarray(image,'RGB')\n",
    "        size_image=array.resize((50,50))\n",
    "        data.append(np.array(size_image))\n",
    "        labels.append(1)\n",
    "    except AttributeError:\n",
    "        print(\" \")"
   ]
  },
  {
   "cell_type": "code",
   "execution_count": 31,
   "metadata": {},
   "outputs": [],
   "source": [
    "Cells=np.array(data)\n",
    "labels=np.array(labels)"
   ]
  },
  {
   "cell_type": "code",
   "execution_count": 32,
   "metadata": {},
   "outputs": [],
   "source": [
    "n=np.arange(Cells.shape[0])\n",
    "np.random.shuffle(n)"
   ]
  },
  {
   "cell_type": "code",
   "execution_count": 38,
   "metadata": {},
   "outputs": [],
   "source": [
    "np.save('Cells',Cells)\n",
    "np.save('labels',labels)"
   ]
  },
  {
   "cell_type": "code",
   "execution_count": 28,
   "metadata": {},
   "outputs": [],
   "source": [
    "Cells=np.load(\"Cells.npy\")\n",
    "labels=np.load(\"labels.npy\")"
   ]
  },
  {
   "cell_type": "code",
   "execution_count": 33,
   "metadata": {},
   "outputs": [],
   "source": [
    "Cells=Cells[n]\n",
    "labels=labels[n]"
   ]
  },
  {
   "cell_type": "code",
   "execution_count": 34,
   "metadata": {},
   "outputs": [],
   "source": [
    "num_classes=len(np.unique(labels))\n",
    "len_data=len(Cells)"
   ]
  },
  {
   "cell_type": "code",
   "execution_count": 35,
   "metadata": {},
   "outputs": [],
   "source": [
    "(X_train,X_test)=Cells[int(0.1*len_data):],Cells[:int(0.1*len_data)]\n",
    "X_train=X_train.astype('float32')/255\n",
    "X_test=X_test.astype('float32')/255\n",
    "train_length=len(X_train)\n",
    "test_length=len(X_test)"
   ]
  },
  {
   "cell_type": "code",
   "execution_count": 36,
   "metadata": {},
   "outputs": [],
   "source": [
    "(Y_train,Y_test)=labels[int(0.1*len_data):],labels[:int(0.1*len_data)]"
   ]
  },
  {
   "cell_type": "code",
   "execution_count": 37,
   "metadata": {},
   "outputs": [],
   "source": [
    "Y_train=keras.utils.to_categorical(Y_train,num_classes)\n",
    "Y_test=keras.utils.to_categorical(Y_test,num_classes)"
   ]
  },
  {
   "cell_type": "code",
   "execution_count": 38,
   "metadata": {},
   "outputs": [
    {
     "name": "stdout",
     "output_type": "stream",
     "text": [
      "Model: \"sequential\"\n",
      "_________________________________________________________________\n",
      "Layer (type)                 Output Shape              Param #   \n",
      "=================================================================\n",
      "conv2d (Conv2D)              (None, 50, 50, 16)        208       \n",
      "_________________________________________________________________\n",
      "max_pooling2d (MaxPooling2D) (None, 25, 25, 16)        0         \n",
      "_________________________________________________________________\n",
      "conv2d_1 (Conv2D)            (None, 25, 25, 32)        2080      \n",
      "_________________________________________________________________\n",
      "max_pooling2d_1 (MaxPooling2 (None, 12, 12, 32)        0         \n",
      "_________________________________________________________________\n",
      "conv2d_2 (Conv2D)            (None, 12, 12, 64)        8256      \n",
      "_________________________________________________________________\n",
      "max_pooling2d_2 (MaxPooling2 (None, 6, 6, 64)          0         \n",
      "_________________________________________________________________\n",
      "dropout (Dropout)            (None, 6, 6, 64)          0         \n",
      "_________________________________________________________________\n",
      "flatten (Flatten)            (None, 2304)              0         \n",
      "_________________________________________________________________\n",
      "dense (Dense)                (None, 500)               1152500   \n",
      "_________________________________________________________________\n",
      "dropout_1 (Dropout)          (None, 500)               0         \n",
      "_________________________________________________________________\n",
      "dense_1 (Dense)              (None, 2)                 1002      \n",
      "=================================================================\n",
      "Total params: 1,164,046\n",
      "Trainable params: 1,164,046\n",
      "Non-trainable params: 0\n",
      "_________________________________________________________________\n"
     ]
    }
   ],
   "source": [
    "model=Sequential()\n",
    "model.add(Conv2D(filters=16,kernel_size=2,padding='same',activation='relu',input_shape=(50,50,3)))\n",
    "model.add(MaxPooling2D(pool_size=2))\n",
    "model.add(Conv2D(filters=32,kernel_size=2,padding='same',activation='relu'))\n",
    "model.add(MaxPooling2D(pool_size=2))\n",
    "model.add(Conv2D(filters=64,kernel_size=2,padding='same',activation='relu'))\n",
    "model.add(MaxPooling2D(pool_size=2))\n",
    "model.add(Dropout(0.2))\n",
    "model.add(Flatten())\n",
    "model.add(Dense(500,activation='relu'))\n",
    "model.add(Dropout(0.2))\n",
    "model.add(Dense(2,activation='softmax'))\n",
    "model.summary()"
   ]
  },
  {
   "cell_type": "code",
   "execution_count": 39,
   "metadata": {},
   "outputs": [],
   "source": [
    "model.compile(loss='categorical_crossentropy', optimizer='adam', metrics=['accuracy'])\n"
   ]
  },
  {
   "cell_type": "code",
   "execution_count": 40,
   "metadata": {},
   "outputs": [
    {
     "name": "stdout",
     "output_type": "stream",
     "text": [
      "Epoch 1/20\n",
      "497/497 [==============================] - 23s 46ms/step - loss: 0.3637 - accuracy: 0.8266\n",
      "Epoch 2/20\n",
      "497/497 [==============================] - 23s 47ms/step - loss: 0.1571 - accuracy: 0.9505\n",
      "Epoch 3/20\n",
      "497/497 [==============================] - 27s 54ms/step - loss: 0.1426 - accuracy: 0.9558\n",
      "Epoch 4/20\n",
      "497/497 [==============================] - 28s 56ms/step - loss: 0.1318 - accuracy: 0.9584\n",
      "Epoch 5/20\n",
      "497/497 [==============================] - 28s 57ms/step - loss: 0.1244 - accuracy: 0.9596\n",
      "Epoch 6/20\n",
      "497/497 [==============================] - 29s 58ms/step - loss: 0.1162 - accuracy: 0.9610\n",
      "Epoch 7/20\n",
      "497/497 [==============================] - 27s 55ms/step - loss: 0.1092 - accuracy: 0.9622\n",
      "Epoch 8/20\n",
      "497/497 [==============================] - 26s 53ms/step - loss: 0.1018 - accuracy: 0.9646\n",
      "Epoch 9/20\n",
      "497/497 [==============================] - 24s 49ms/step - loss: 0.0974 - accuracy: 0.9653\n",
      "Epoch 10/20\n",
      "497/497 [==============================] - 24s 49ms/step - loss: 0.0879 - accuracy: 0.9690\n",
      "Epoch 11/20\n",
      "497/497 [==============================] - 24s 49ms/step - loss: 0.0836 - accuracy: 0.9699\n",
      "Epoch 12/20\n",
      "497/497 [==============================] - 24s 48ms/step - loss: 0.0765 - accuracy: 0.9722\n",
      "Epoch 13/20\n",
      "497/497 [==============================] - 24s 48ms/step - loss: 0.0699 - accuracy: 0.9746\n",
      "Epoch 14/20\n",
      "497/497 [==============================] - 24s 49ms/step - loss: 0.0667 - accuracy: 0.9758\n",
      "Epoch 15/20\n",
      "497/497 [==============================] - 24s 48ms/step - loss: 0.0604 - accuracy: 0.9777\n",
      "Epoch 16/20\n",
      "497/497 [==============================] - 25s 50ms/step - loss: 0.0549 - accuracy: 0.9800\n",
      "Epoch 17/20\n",
      "497/497 [==============================] - 25s 50ms/step - loss: 0.0460 - accuracy: 0.9834\n",
      "Epoch 18/20\n",
      "497/497 [==============================] - 24s 48ms/step - loss: 0.0417 - accuracy: 0.9858\n",
      "Epoch 19/20\n",
      "497/497 [==============================] - 24s 49ms/step - loss: 0.0359 - accuracy: 0.9869\n",
      "Epoch 20/20\n",
      "497/497 [==============================] - 24s 48ms/step - loss: 0.0362 - accuracy: 0.9861\n"
     ]
    },
    {
     "data": {
      "text/plain": [
       "<tensorflow.python.keras.callbacks.History at 0x154e5883a60>"
      ]
     },
     "execution_count": 40,
     "metadata": {},
     "output_type": "execute_result"
    }
   ],
   "source": [
    "model.fit(X_train,Y_train,batch_size=50,epochs=20,verbose=1)"
   ]
  },
  {
   "cell_type": "code",
   "execution_count": 41,
   "metadata": {},
   "outputs": [
    {
     "name": "stdout",
     "output_type": "stream",
     "text": [
      "87/87 [==============================] - 1s 7ms/step - loss: 0.1938 - accuracy: 0.9535\n",
      "95.35390138626099\n"
     ]
    }
   ],
   "source": [
    "accuracy=model.evaluate(X_test,Y_test)\n",
    "print(accuracy[1]*100)"
   ]
  },
  {
   "cell_type": "code",
   "execution_count": 61,
   "metadata": {},
   "outputs": [],
   "source": [
    "from keras.models import load_model\n",
    "\n",
    "model.save('cell_predictions.h5')"
   ]
  },
  {
   "cell_type": "code",
   "execution_count": 6,
   "metadata": {},
   "outputs": [],
   "source": [
    "model=load_model('UI//cell_predictions.h5')"
   ]
  }
 ],
 "metadata": {
  "kernelspec": {
   "display_name": "Python 3",
   "language": "python",
   "name": "python3"
  },
  "language_info": {
   "codemirror_mode": {
    "name": "ipython",
    "version": 3
   },
   "file_extension": ".py",
   "mimetype": "text/x-python",
   "name": "python",
   "nbconvert_exporter": "python",
   "pygments_lexer": "ipython3",
   "version": "3.8.3"
  }
 },
 "nbformat": 4,
 "nbformat_minor": 4
}
